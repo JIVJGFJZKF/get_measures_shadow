{
 "cells": [
  {
   "cell_type": "code",
   "execution_count": 1,
   "metadata": {},
   "outputs": [],
   "source": [
    "import math\n",
    "import datetime"
   ]
  },
  {
   "cell_type": "markdown",
   "metadata": {},
   "source": [
    "# Child: M"
   ]
  },
  {
   "cell_type": "code",
   "execution_count": 2,
   "metadata": {},
   "outputs": [
    {
     "name": "stdout",
     "output_type": "stream",
     "text": [
      "The ratio of the opposite over the adjacent =  0.55\n"
     ]
    }
   ],
   "source": [
    "triMOpp = 59.00  #M's height in inches.\n",
    "triMAdj = 108\n",
    "print(\"The ratio of the opposite over the adjacent =  {0:.2f}\".format(triMOpp/triMAdj))"
   ]
  },
  {
   "cell_type": "code",
   "execution_count": 3,
   "metadata": {},
   "outputs": [
    {
     "name": "stdout",
     "output_type": "stream",
     "text": [
      "The sun was at 34.84 degrees\n"
     ]
    }
   ],
   "source": [
    "angM = math.tan(triMOpp/triMAdj)\n",
    "print(\"The sun was at {0:.2f} degrees\".format(math.degrees(angM)))"
   ]
  },
  {
   "cell_type": "markdown",
   "metadata": {},
   "source": [
    "# Child: B"
   ]
  },
  {
   "cell_type": "code",
   "execution_count": 4,
   "metadata": {},
   "outputs": [
    {
     "name": "stdout",
     "output_type": "stream",
     "text": [
      "The ratio of the opposite over the adjacent =  0.64\n"
     ]
    }
   ],
   "source": [
    "triBOpp = 49.75 #B's height in inches.\n",
    "triBAdj = 78\n",
    "print(\"The ratio of the opposite over the adjacent =  {0:.2f}\".format(triBOpp/triBAdj))"
   ]
  },
  {
   "cell_type": "code",
   "execution_count": 5,
   "metadata": {},
   "outputs": [
    {
     "name": "stdout",
     "output_type": "stream",
     "text": [
      "The sun was at 42.47 degrees\n"
     ]
    }
   ],
   "source": [
    "angB = math.tan(triBOpp/triBAdj)\n",
    "print(\"The sun was at {0:.2f} degrees\".format(math.degrees(angB)))"
   ]
  },
  {
   "cell_type": "markdown",
   "metadata": {},
   "source": [
    "# Questions\n",
    "## #1 Angle Measurements\n",
    "If we assume that our measurements were extremely precise, how would we answer these questions.\n",
    "\n",
    "What is the difference in the angle of the sun (in degrees) between the children being measured?"
   ]
  },
  {
   "cell_type": "code",
   "execution_count": 6,
   "metadata": {},
   "outputs": [
    {
     "name": "stdout",
     "output_type": "stream",
     "text": [
      "The difference in angles is 7.63 degrees\n"
     ]
    }
   ],
   "source": [
    "print(\"The difference in angles is {0:.2f} degrees\".format((math.degrees(angB)-math.degrees(angM))))"
   ]
  },
  {
   "cell_type": "markdown",
   "metadata": {},
   "source": [
    "## #2 Time\n",
    "The measurements were taken on the morning of Saturday, 15 Sep 2018.  Based on a weather calendar, the sun rose at 7:12:01 AM that morning.  Using the formula below, it is possible to take an angle and calculate how much time has passed since sunrise.  Here *w* is the hour angle of the sun, which is one of the three angles of the Earth-Sun dynamic.  For additional information, please refer to [Penn State](https://www.e-education.psu.edu/eme810/node/556)."
   ]
  },
  {
   "cell_type": "markdown",
   "metadata": {},
   "source": [
    "\\begin{equation*}\n",
    "{w} = \\frac{360\\mathring{ }}{24 hr}(t_{sol}-12) = \\frac{15\\mathring{ }}{hr}(t_{sol}-12)\n",
    "\\end{equation*}"
   ]
  },
  {
   "cell_type": "markdown",
   "metadata": {},
   "source": [
    "\\begin{equation*}\n",
    "{w}\\frac{hr}{15\\mathring{ }} = \\frac{hr}{15\\mathring{ }}\\frac{15\\mathring{ }}{hr}(t_{sol}-12) = t_{sol}-12\n",
    "\\end{equation*}"
   ]
  },
  {
   "cell_type": "markdown",
   "metadata": {},
   "source": [
    "\\begin{equation*}\n",
    "{w}\\frac{hr}{15\\mathring{ }}+12 = t_{sol}-12+12\n",
    "\\end{equation*}"
   ]
  },
  {
   "cell_type": "markdown",
   "metadata": {},
   "source": [
    "\\begin{equation*}\n",
    "{t_{sol}} = \\frac{w}{15\\mathring{ }}+12\n",
    "\\end{equation*}"
   ]
  },
  {
   "cell_type": "markdown",
   "metadata": {},
   "source": [
    "This rearrangement of the equation gives us the total number of hours after sunrise for which the angle *w* was observed.  Having the time of sunrise and the result of this equation, it becomes straightforward to calculate the time of day the measurements were taken."
   ]
  },
  {
   "cell_type": "code",
   "execution_count": 93,
   "metadata": {},
   "outputs": [],
   "source": [
    "# Date and time of sunrise based on solar calendar\n",
    "# The timezone is added as UTC, which is then adjusted to reflect local (EDT) time.\n",
    "edtTimeDelta = datetime.timedelta(hours=4)\n",
    "edtTZObject = datetime.timezone(edtTimeDelta,name=\"EDT\")\n",
    "timeSunRise = datetime.datetime(year=2017,month=9,day=15,hour=3,minute=12,second=1,tzinfo=edtTZObject)#+datetime.timedelta(hours=-4)"
   ]
  },
  {
   "cell_type": "markdown",
   "metadata": {},
   "source": [
    "### Child: M\n",
    "At what time of day was M measured?"
   ]
  },
  {
   "cell_type": "code",
   "execution_count": 94,
   "metadata": {},
   "outputs": [
    {
     "name": "stdout",
     "output_type": "stream",
     "text": [
      "2.32 hours after sunrise\n",
      "For M, the measurements were taken on: 15 Sep 2017 at 05:31:21\n"
     ]
    }
   ],
   "source": [
    "timeM = 12+(math.degrees(angM)-180)/15\n",
    "print(\"{0:.2f} hours after sunrise\".format(timeM))\n",
    "valDiffM = datetime.timedelta(hours=timeM)\n",
    "print(\"For M, the measurements were taken on: \"+(timeSunRise+valDiffM).strftime('%d %b %Y at %H:%M:%S'))\n",
    "timeValM = timeSunRise+valDiffM"
   ]
  },
  {
   "cell_type": "markdown",
   "metadata": {},
   "source": [
    "### Child: B\n",
    "At what time of day was B measured?"
   ]
  },
  {
   "cell_type": "code",
   "execution_count": 95,
   "metadata": {},
   "outputs": [
    {
     "name": "stdout",
     "output_type": "stream",
     "text": [
      "2.83 hours after sunrise\n",
      "For B, the measurements were taken on: 15 Sep 2017 at 06:01:52\n"
     ]
    }
   ],
   "source": [
    "timeB = 12+(math.degrees(angB)-180)/15\n",
    "print(\"{0:.2f} hours after sunrise\".format(timeB))\n",
    "valDiffB = datetime.timedelta(hours=timeB)\n",
    "print(\"For B, the measurements were taken on: \"+(timeSunRise+valDiffB).strftime('%d %b %Y at %H:%M:%S'))\n",
    "timeValB = timeSunRise+valDiffB"
   ]
  },
  {
   "cell_type": "markdown",
   "metadata": {},
   "source": [
    "### Overall\n",
    "How much time in hours was between the measurements?"
   ]
  },
  {
   "cell_type": "code",
   "execution_count": 96,
   "metadata": {},
   "outputs": [
    {
     "name": "stdout",
     "output_type": "stream",
     "text": [
      "0.5086 minutes\n"
     ]
    }
   ],
   "source": [
    "print(\"{0:.4f} minutes\".format(((valDiffB)-(valDiffM)).total_seconds()/(60*60)))"
   ]
  },
  {
   "cell_type": "markdown",
   "metadata": {},
   "source": [
    "## #3 Distances\n",
    "For this question, we will assume the Earth is only rotating on its axes, and not rotating around the sun in an ellipse as well as rotating on its axes.\n",
    "\n",
    "Secondarily, it will be easier to assume the equitorial, angular rotation speed and radius of Earth is fixed across the entire planet regardless of the present longitudinal position.Although this assumption is clearly violated, it removes the necessity to calculate seasonal, orbital, and tilt specifics for a location.  Given this model of rotation, how much had the Earth moved (in miles) between the children being measured, if the rate of rotation (velocity) of the Earth is 1040.4 MPH?"
   ]
  },
  {
   "cell_type": "markdown",
   "metadata": {},
   "source": [
    "\\begin{equation*}\n",
    "{d} = {v}*(t_{B}-t_{M})\n",
    "\\end{equation*}\n",
    "\n",
    "\\begin{equation*}\n",
    "t_{B}-t_{M} = \\text{15 Sep 2017 10:01:52} - \\text{15 Sep 2017 09:31:21} \\approx 0.5086 \\text{ hours}\n",
    "\\end{equation*}"
   ]
  },
  {
   "cell_type": "code",
   "execution_count": 97,
   "metadata": {},
   "outputs": [
    {
     "name": "stdout",
     "output_type": "stream",
     "text": [
      "529.11 miles covered beteeen measurements\n"
     ]
    }
   ],
   "source": [
    "valEarthAngSpeed = 1040.4  #Rate of rotation of Earth in MPH\n",
    "valDistance = valEarthAngSpeed*((valDiffB)-(valDiffM)).total_seconds()/(60*60)\n",
    "print(\"{0:.2f} miles covered beteeen measurements\".format(valDistance))"
   ]
  },
  {
   "cell_type": "markdown",
   "metadata": {},
   "source": [
    "# Energy Calculations\n",
    "Let's assume we are located in sunny Florida.  Specifically, let's assume Miami, FL.  The coordinates for Miami, FL can be found using a variety of mapping applications, but Google provides a relatively straightforward by looking at the arguments in the [URL](https://www.google.com/maps/place/Miami,+FL/@25.7823404,-80.3695441,11z/data=!3m1!4b1!4m5!3m4!1s0x88d9b0a20ec8c111:0xff96f271ddad4f65!8m2!3d25.7616798!4d-80.1917902).  Buried in this string, provided below as plain text and before this sentence as a link, you can see the coordinates after the '@' symbol.  It has a latitude of 25.7823404&deg;N and a longitude of 80.3695441&deg;W\n",
    "\n",
    "URL: https://www.google.com/maps/place/Miami,+FL/@25.7823404,-80.3695441,11z/data=!3m1!4b1!4m5!3m4!1s0x88d9b0a20ec8c111:0xff96f271ddad4f65!8m2!3d25.7616798!4d-80.1917902\n",
    "\n",
    "Let's get the PySolar library setup, as it will help us calculate the radiation energy from the sun at the different times of day."
   ]
  },
  {
   "cell_type": "code",
   "execution_count": 98,
   "metadata": {},
   "outputs": [],
   "source": [
    "from pysolar.solar import *\n",
    "from datetime import timezone\n",
    "import pandas as pd"
   ]
  },
  {
   "cell_type": "code",
   "execution_count": 106,
   "metadata": {},
   "outputs": [],
   "source": [
    "locLat = 25.7823404\n",
    "locLon = 80.3695441\n",
    "\n",
    "timeZoneM = timeValM\n",
    "timeZoneB = timeValB\n",
    "\n",
    "#timeZoneM = timeValM.replace(tzinfo=timezone.utc)\n",
    "#timeZoneB = timeValB.replace(tzinfo=timezone.utc)\n",
    "\n",
    "locLat = 40.0812\n",
    "locLon = 82.8088"
   ]
  },
  {
   "cell_type": "markdown",
   "metadata": {},
   "source": [
    "## Child: M"
   ]
  },
  {
   "cell_type": "code",
   "execution_count": 107,
   "metadata": {},
   "outputs": [
    {
     "name": "stdout",
     "output_type": "stream",
     "text": [
      "14.843717313001909\n",
      "545.782050666102\n"
     ]
    }
   ],
   "source": [
    "valAltitudeM = get_altitude(locLat,locLon,timeZoneM)\n",
    "valRadiationM = radiation.get_radiation_direct(timeZoneM,valAltitudeM)\n",
    "print(valAltitudeM)\n",
    "print(valRadiationM)"
   ]
  },
  {
   "cell_type": "code",
   "execution_count": 108,
   "metadata": {},
   "outputs": [
    {
     "data": {
      "text/plain": [
       "893.4363867360987"
      ]
     },
     "execution_count": 108,
     "metadata": {},
     "output_type": "execute_result"
    }
   ],
   "source": [
    "altitude_deg = get_altitude(locLat,locLon,timeValM.replace(tzinfo=timezone.utc))\n",
    "radiation.get_radiation_direct(timeValM.replace(tzinfo=timezone.utc),altitude_deg)"
   ]
  },
  {
   "cell_type": "code",
   "execution_count": 109,
   "metadata": {},
   "outputs": [
    {
     "name": "stdout",
     "output_type": "stream",
     "text": [
      "20.54382479299821\n",
      "665.5975303119833\n"
     ]
    }
   ],
   "source": [
    "valAltitudeB = get_altitude(locLat,locLon,timeZoneB)\n",
    "valRadiationB = radiation.get_radiation_direct(timeZoneB,valAltitudeB)\n",
    "print(valAltitudeB)\n",
    "print(valRadiationB)"
   ]
  },
  {
   "cell_type": "markdown",
   "metadata": {},
   "source": [
    "## Energy During Day"
   ]
  },
  {
   "cell_type": "code",
   "execution_count": 110,
   "metadata": {},
   "outputs": [],
   "source": [
    "dfSunMeasures = pd.DataFrame({'Offset':list(range(-1,14)),'Sunrise':[timeSunRise]*15})\n",
    "dfSunMeasures['TimeCalculated'] = dfSunMeasures.apply(lambda x: timeSunRise+datetime.timedelta(hours=x['Offset']),axis=1)"
   ]
  },
  {
   "cell_type": "code",
   "execution_count": 111,
   "metadata": {},
   "outputs": [],
   "source": [
    "dfSunMeasures['Altitude'] = dfSunMeasures['TimeCalculated'].apply(lambda x: get_altitude(locLat,locLon,x))\n",
    "dfSunMeasures['Radiation'] = dfSunMeasures.apply(lambda x: radiation.get_radiation_direct(x['TimeCalculated'],x['Altitude']),axis=1)"
   ]
  },
  {
   "cell_type": "code",
   "execution_count": 112,
   "metadata": {},
   "outputs": [
    {
     "data": {
      "text/html": [
       "<div>\n",
       "<style scoped>\n",
       "    .dataframe tbody tr th:only-of-type {\n",
       "        vertical-align: middle;\n",
       "    }\n",
       "\n",
       "    .dataframe tbody tr th {\n",
       "        vertical-align: top;\n",
       "    }\n",
       "\n",
       "    .dataframe thead th {\n",
       "        text-align: right;\n",
       "    }\n",
       "</style>\n",
       "<table border=\"1\" class=\"dataframe\">\n",
       "  <thead>\n",
       "    <tr style=\"text-align: right;\">\n",
       "      <th></th>\n",
       "      <th>Offset</th>\n",
       "      <th>Sunrise</th>\n",
       "      <th>TimeCalculated</th>\n",
       "      <th>Altitude</th>\n",
       "      <th>Radiation</th>\n",
       "    </tr>\n",
       "  </thead>\n",
       "  <tbody>\n",
       "    <tr>\n",
       "      <th>0</th>\n",
       "      <td>-1</td>\n",
       "      <td>2017-09-15 03:12:01+04:00</td>\n",
       "      <td>2017-09-15 02:12:01+04:00</td>\n",
       "      <td>-22.447229</td>\n",
       "      <td>0.000000</td>\n",
       "    </tr>\n",
       "    <tr>\n",
       "      <th>1</th>\n",
       "      <td>0</td>\n",
       "      <td>2017-09-15 03:12:01+04:00</td>\n",
       "      <td>2017-09-15 03:12:01+04:00</td>\n",
       "      <td>-11.651696</td>\n",
       "      <td>0.000000</td>\n",
       "    </tr>\n",
       "    <tr>\n",
       "      <th>2</th>\n",
       "      <td>1</td>\n",
       "      <td>2017-09-15 03:12:01+04:00</td>\n",
       "      <td>2017-09-15 04:12:01+04:00</td>\n",
       "      <td>0.185087</td>\n",
       "      <td>0.000000</td>\n",
       "    </tr>\n",
       "    <tr>\n",
       "      <th>3</th>\n",
       "      <td>2</td>\n",
       "      <td>2017-09-15 03:12:01+04:00</td>\n",
       "      <td>2017-09-15 05:12:01+04:00</td>\n",
       "      <td>11.193117</td>\n",
       "      <td>431.457848</td>\n",
       "    </tr>\n",
       "    <tr>\n",
       "      <th>4</th>\n",
       "      <td>3</td>\n",
       "      <td>2017-09-15 03:12:01+04:00</td>\n",
       "      <td>2017-09-15 06:12:01+04:00</td>\n",
       "      <td>22.412664</td>\n",
       "      <td>694.648267</td>\n",
       "    </tr>\n",
       "    <tr>\n",
       "      <th>5</th>\n",
       "      <td>4</td>\n",
       "      <td>2017-09-15 03:12:01+04:00</td>\n",
       "      <td>2017-09-15 07:12:01+04:00</td>\n",
       "      <td>33.041522</td>\n",
       "      <td>805.891104</td>\n",
       "    </tr>\n",
       "    <tr>\n",
       "      <th>6</th>\n",
       "      <td>5</td>\n",
       "      <td>2017-09-15 03:12:01+04:00</td>\n",
       "      <td>2017-09-15 08:12:01+04:00</td>\n",
       "      <td>42.414483</td>\n",
       "      <td>861.032504</td>\n",
       "    </tr>\n",
       "    <tr>\n",
       "      <th>7</th>\n",
       "      <td>6</td>\n",
       "      <td>2017-09-15 03:12:01+04:00</td>\n",
       "      <td>2017-09-15 09:12:01+04:00</td>\n",
       "      <td>49.472875</td>\n",
       "      <td>888.540350</td>\n",
       "    </tr>\n",
       "    <tr>\n",
       "      <th>8</th>\n",
       "      <td>7</td>\n",
       "      <td>2017-09-15 03:12:01+04:00</td>\n",
       "      <td>2017-09-15 10:12:01+04:00</td>\n",
       "      <td>52.768571</td>\n",
       "      <td>898.578310</td>\n",
       "    </tr>\n",
       "    <tr>\n",
       "      <th>9</th>\n",
       "      <td>8</td>\n",
       "      <td>2017-09-15 03:12:01+04:00</td>\n",
       "      <td>2017-09-15 11:12:01+04:00</td>\n",
       "      <td>51.288528</td>\n",
       "      <td>894.259714</td>\n",
       "    </tr>\n",
       "    <tr>\n",
       "      <th>10</th>\n",
       "      <td>9</td>\n",
       "      <td>2017-09-15 03:12:01+04:00</td>\n",
       "      <td>2017-09-15 12:12:01+04:00</td>\n",
       "      <td>45.519813</td>\n",
       "      <td>874.275732</td>\n",
       "    </tr>\n",
       "    <tr>\n",
       "      <th>11</th>\n",
       "      <td>10</td>\n",
       "      <td>2017-09-15 03:12:01+04:00</td>\n",
       "      <td>2017-09-15 13:12:01+04:00</td>\n",
       "      <td>36.892816</td>\n",
       "      <td>831.836120</td>\n",
       "    </tr>\n",
       "    <tr>\n",
       "      <th>12</th>\n",
       "      <td>11</td>\n",
       "      <td>2017-09-15 03:12:01+04:00</td>\n",
       "      <td>2017-09-15 14:12:01+04:00</td>\n",
       "      <td>26.650005</td>\n",
       "      <td>748.056786</td>\n",
       "    </tr>\n",
       "    <tr>\n",
       "      <th>13</th>\n",
       "      <td>12</td>\n",
       "      <td>2017-09-15 03:12:01+04:00</td>\n",
       "      <td>2017-09-15 15:12:01+04:00</td>\n",
       "      <td>15.584945</td>\n",
       "      <td>564.746389</td>\n",
       "    </tr>\n",
       "    <tr>\n",
       "      <th>14</th>\n",
       "      <td>13</td>\n",
       "      <td>2017-09-15 03:12:01+04:00</td>\n",
       "      <td>2017-09-15 16:12:01+04:00</td>\n",
       "      <td>4.271201</td>\n",
       "      <td>90.803521</td>\n",
       "    </tr>\n",
       "  </tbody>\n",
       "</table>\n",
       "</div>"
      ],
      "text/plain": [
       "    Offset                   Sunrise            TimeCalculated   Altitude  \\\n",
       "0       -1 2017-09-15 03:12:01+04:00 2017-09-15 02:12:01+04:00 -22.447229   \n",
       "1        0 2017-09-15 03:12:01+04:00 2017-09-15 03:12:01+04:00 -11.651696   \n",
       "2        1 2017-09-15 03:12:01+04:00 2017-09-15 04:12:01+04:00   0.185087   \n",
       "3        2 2017-09-15 03:12:01+04:00 2017-09-15 05:12:01+04:00  11.193117   \n",
       "4        3 2017-09-15 03:12:01+04:00 2017-09-15 06:12:01+04:00  22.412664   \n",
       "5        4 2017-09-15 03:12:01+04:00 2017-09-15 07:12:01+04:00  33.041522   \n",
       "6        5 2017-09-15 03:12:01+04:00 2017-09-15 08:12:01+04:00  42.414483   \n",
       "7        6 2017-09-15 03:12:01+04:00 2017-09-15 09:12:01+04:00  49.472875   \n",
       "8        7 2017-09-15 03:12:01+04:00 2017-09-15 10:12:01+04:00  52.768571   \n",
       "9        8 2017-09-15 03:12:01+04:00 2017-09-15 11:12:01+04:00  51.288528   \n",
       "10       9 2017-09-15 03:12:01+04:00 2017-09-15 12:12:01+04:00  45.519813   \n",
       "11      10 2017-09-15 03:12:01+04:00 2017-09-15 13:12:01+04:00  36.892816   \n",
       "12      11 2017-09-15 03:12:01+04:00 2017-09-15 14:12:01+04:00  26.650005   \n",
       "13      12 2017-09-15 03:12:01+04:00 2017-09-15 15:12:01+04:00  15.584945   \n",
       "14      13 2017-09-15 03:12:01+04:00 2017-09-15 16:12:01+04:00   4.271201   \n",
       "\n",
       "     Radiation  \n",
       "0     0.000000  \n",
       "1     0.000000  \n",
       "2     0.000000  \n",
       "3   431.457848  \n",
       "4   694.648267  \n",
       "5   805.891104  \n",
       "6   861.032504  \n",
       "7   888.540350  \n",
       "8   898.578310  \n",
       "9   894.259714  \n",
       "10  874.275732  \n",
       "11  831.836120  \n",
       "12  748.056786  \n",
       "13  564.746389  \n",
       "14   90.803521  "
      ]
     },
     "execution_count": 112,
     "metadata": {},
     "output_type": "execute_result"
    }
   ],
   "source": [
    "dfSunMeasures"
   ]
  },
  {
   "cell_type": "code",
   "execution_count": 115,
   "metadata": {},
   "outputs": [],
   "source": [
    "%matplotlib inline"
   ]
  },
  {
   "cell_type": "code",
   "execution_count": null,
   "metadata": {},
   "outputs": [],
   "source": [
    "dfSunMeasures.set_index('TimeCalculated',inplace=True)"
   ]
  },
  {
   "cell_type": "code",
   "execution_count": 132,
   "metadata": {},
   "outputs": [
    {
     "data": {
      "text/plain": [
       "<matplotlib.axes._subplots.AxesSubplot at 0x1218683c8>"
      ]
     },
     "execution_count": 132,
     "metadata": {},
     "output_type": "execute_result"
    },
    {
     "data": {
      "image/png": "[encoded data removed]",
      "text/plain": [
       "<Figure size 864x576 with 1 Axes>"
      ]
     },
     "metadata": {
      "needs_background": "light"
     },
     "output_type": "display_data"
    }
   ],
   "source": [
    "dfSunMeasures.plot.scatter(x='Altitude',y='Radiation',c='DarkBlue',figsize=(12,8))"
   ]
  },
  {
   "cell_type": "code",
   "execution_count": 133,
   "metadata": {},
   "outputs": [
    {
     "data": {
      "text/plain": [
       "<matplotlib.axes._subplots.AxesSubplot at 0x121a25e48>"
      ]
     },
     "execution_count": 133,
     "metadata": {},
     "output_type": "execute_result"
    },
    {
     "data": {
      "image/png": "[encoded data removed]",
      "text/plain": [
       "<Figure size 864x576 with 1 Axes>"
      ]
     },
     "metadata": {
      "needs_background": "light"
     },
     "output_type": "display_data"
    }
   ],
   "source": [
    "dfSunMeasures.plot(y='Radiation',c='DarkBlue',style='.',figsize=(12,8))"
   ]
  },
  {
   "cell_type": "code",
   "execution_count": 134,
   "metadata": {},
   "outputs": [
    {
     "data": {
      "text/plain": [
       "<matplotlib.axes._subplots.AxesSubplot at 0x1214afbe0>"
      ]
     },
     "execution_count": 134,
     "metadata": {},
     "output_type": "execute_result"
    },
    {
     "data": {
      "image/png": "[encoded data removed]",
      "text/plain": [
       "<Figure size 864x576 with 1 Axes>"
      ]
     },
     "metadata": {
      "needs_background": "light"
     },
     "output_type": "display_data"
    }
   ],
   "source": [
    "dfSunMeasures.plot.scatter(x='Offset',y='Radiation',c='DarkBlue',figsize=(12,8))"
   ]
  },
  {
   "cell_type": "code",
   "execution_count": null,
   "metadata": {},
   "outputs": [],
   "source": []
  }
 ],
 "metadata": {
  "kernelspec": {
   "display_name": "Python [conda env:Env_Scratch]",
   "language": "python",
   "name": "conda-env-Env_Scratch-py"
  },
  "language_info": {
   "codemirror_mode": {
    "name": "ipython",
    "version": 3
   },
   "file_extension": ".py",
   "mimetype": "text/x-python",
   "name": "python",
   "nbconvert_exporter": "python",
   "pygments_lexer": "ipython3",
   "version": "3.4.5"
  }
 },
 "nbformat": 4,
 "nbformat_minor": 2
}
