{
 "cells": [
  {
   "cell_type": "code",
   "execution_count": 1,
   "metadata": {},
   "outputs": [],
   "source": [
    "import math\n",
    "import datetime\n",
    "%matplotlib inline"
   ]
  },
  {
   "cell_type": "markdown",
   "metadata": {},
   "source": [
    "# Child: M"
   ]
  },
  {
   "cell_type": "code",
   "execution_count": 2,
   "metadata": {},
   "outputs": [
    {
     "name": "stdout",
     "output_type": "stream",
     "text": [
      "The ratio of the opposite over the adjacent =  0.55\n"
     ]
    }
   ],
   "source": [
    "triMOpp = 59.00  #M's height in inches.\n",
    "triMAdj = 108\n",
    "print(\"The ratio of the opposite over the adjacent =  {0:.2f}\".format(triMOpp/triMAdj))"
   ]
  },
  {
   "cell_type": "code",
   "execution_count": 3,
   "metadata": {},
   "outputs": [
    {
     "name": "stdout",
     "output_type": "stream",
     "text": [
      "The sun was at 34.84 degrees\n"
     ]
    }
   ],
   "source": [
    "angM = math.tan(triMOpp/triMAdj)\n",
    "print(\"The sun was at {0:.2f} degrees\".format(math.degrees(angM)))"
   ]
  },
  {
   "cell_type": "markdown",
   "metadata": {},
   "source": [
    "# Child: B"
   ]
  },
  {
   "cell_type": "code",
   "execution_count": 4,
   "metadata": {},
   "outputs": [
    {
     "name": "stdout",
     "output_type": "stream",
     "text": [
      "The ratio of the opposite over the adjacent =  0.64\n"
     ]
    }
   ],
   "source": [
    "triBOpp = 49.75 #B's height in inches.\n",
    "triBAdj = 78\n",
    "print(\"The ratio of the opposite over the adjacent =  {0:.2f}\".format(triBOpp/triBAdj))"
   ]
  },
  {
   "cell_type": "code",
   "execution_count": 5,
   "metadata": {},
   "outputs": [
    {
     "name": "stdout",
     "output_type": "stream",
     "text": [
      "The sun was at 42.47 degrees\n"
     ]
    }
   ],
   "source": [
    "angB = math.tan(triBOpp/triBAdj)\n",
    "print(\"The sun was at {0:.2f} degrees\".format(math.degrees(angB)))"
   ]
  },
  {
   "cell_type": "markdown",
   "metadata": {},
   "source": [
    "# Questions\n",
    "## #1 Angle Measurements\n",
    "If we assume that our measurements were extremely precise, how would we answer these questions.\n",
    "\n",
    "What is the difference in the angle of the sun (in degrees) between the children being measured?"
   ]
  },
  {
   "cell_type": "code",
   "execution_count": 6,
   "metadata": {},
   "outputs": [
    {
     "name": "stdout",
     "output_type": "stream",
     "text": [
      "The difference in angles is 7.63 degrees\n"
     ]
    }
   ],
   "source": [
    "print(\"The difference in angles is {0:.2f} degrees\".format((math.degrees(angB)-math.degrees(angM))))"
   ]
  },
  {
   "cell_type": "markdown",
   "metadata": {},
   "source": [
    "## #2 Time\n",
    "The measurements were taken on the morning of Saturday, 15 Sep 2018.  Based on a weather calendar, the sun rose at 7:12:01 AM that morning.  Using the formula below, it is possible to take an angle and calculate how much time has passed since sunrise.  Here *w* is the hour angle of the sun, which is one of the three angles of the Earth-Sun dynamic.  For additional information, please refer to [Penn State](https://www.e-education.psu.edu/eme810/node/556)."
   ]
  },
  {
   "cell_type": "markdown",
   "metadata": {},
   "source": [
    "\\begin{equation*}\n",
    "{w} = \\frac{360\\mathring{ }}{24 hr}(t_{sol}-12) = \\frac{15\\mathring{ }}{hr}(t_{sol}-12)\n",
    "\\end{equation*}"
   ]
  },
  {
   "cell_type": "markdown",
   "metadata": {},
   "source": [
    "\\begin{equation*}\n",
    "{w}\\frac{hr}{15\\mathring{ }} = \\frac{hr}{15\\mathring{ }}\\frac{15\\mathring{ }}{hr}(t_{sol}-12) = t_{sol}-12\n",
    "\\end{equation*}"
   ]
  },
  {
   "cell_type": "markdown",
   "metadata": {},
   "source": [
    "\\begin{equation*}\n",
    "{w}\\frac{hr}{15\\mathring{ }}+12 = t_{sol}-12+12\n",
    "\\end{equation*}"
   ]
  },
  {
   "cell_type": "markdown",
   "metadata": {},
   "source": [
    "\\begin{equation*}\n",
    "{t_{sol}} = \\frac{w}{15\\mathring{ }}+12\n",
    "\\end{equation*}"
   ]
  },
  {
   "cell_type": "markdown",
   "metadata": {},
   "source": [
    "This rearrangement of the equation gives us the total number of hours after sunrise for which the angle *w* was observed.  Having the time of sunrise and the result of this equation, it becomes straightforward to calculate the time of day the measurements were taken."
   ]
  },
  {
   "cell_type": "code",
   "execution_count": 7,
   "metadata": {},
   "outputs": [],
   "source": [
    "# Date and time of sunrise based on solar calendar\n",
    "# The timezone is added as UTC, which is then adjusted to reflect local (EDT) time.\n",
    "edtTimeDelta = datetime.timedelta(hours=6)\n",
    "edtTZObject = datetime.timezone(edtTimeDelta,name=\"EDT\")\n",
    "timeSunRise = datetime.datetime(year=2018,month=9,day=15,hour=7,minute=12,second=1,tzinfo=edtTZObject)#+datetime.timedelta(hours=-4)"
   ]
  },
  {
   "cell_type": "markdown",
   "metadata": {},
   "source": [
    "### Child: M\n",
    "At what time of day was M measured?"
   ]
  },
  {
   "cell_type": "code",
   "execution_count": 8,
   "metadata": {},
   "outputs": [
    {
     "name": "stdout",
     "output_type": "stream",
     "text": [
      "2.32 hours after sunrise\n",
      "For M, the measurements were taken on: 15 Sep 2018 at 09:31:21\n"
     ]
    }
   ],
   "source": [
    "timeM = 12+(math.degrees(angM)-180)/15\n",
    "print(\"{0:.2f} hours after sunrise\".format(timeM))\n",
    "valDiffM = datetime.timedelta(hours=timeM)\n",
    "print(\"For M, the measurements were taken on: \"+(timeSunRise+valDiffM).strftime('%d %b %Y at %H:%M:%S'))\n",
    "timeValM = timeSunRise+valDiffM"
   ]
  },
  {
   "cell_type": "markdown",
   "metadata": {},
   "source": [
    "### Child: B\n",
    "At what time of day was B measured?"
   ]
  },
  {
   "cell_type": "code",
   "execution_count": 9,
   "metadata": {},
   "outputs": [
    {
     "name": "stdout",
     "output_type": "stream",
     "text": [
      "2.83 hours after sunrise\n",
      "For B, the measurements were taken on: 15 Sep 2018 at 10:01:52\n"
     ]
    }
   ],
   "source": [
    "timeB = 12+(math.degrees(angB)-180)/15\n",
    "print(\"{0:.2f} hours after sunrise\".format(timeB))\n",
    "valDiffB = datetime.timedelta(hours=timeB)\n",
    "print(\"For B, the measurements were taken on: \"+(timeSunRise+valDiffB).strftime('%d %b %Y at %H:%M:%S'))\n",
    "timeValB = timeSunRise+valDiffB"
   ]
  },
  {
   "cell_type": "markdown",
   "metadata": {},
   "source": [
    "### Overall\n",
    "How much time in hours was between the measurements?"
   ]
  },
  {
   "cell_type": "code",
   "execution_count": 10,
   "metadata": {},
   "outputs": [
    {
     "name": "stdout",
     "output_type": "stream",
     "text": [
      "0.5086 hours\n"
     ]
    }
   ],
   "source": [
    "print(\"{0:.4f} hours\".format(((valDiffB)-(valDiffM)).total_seconds()/(60*60)))"
   ]
  },
  {
   "cell_type": "markdown",
   "metadata": {},
   "source": [
    "## #3 Distances\n",
    "For this question, we will assume the Earth is only rotating on its axes, and not rotating around the sun in an ellipse as well as rotating on its axes.\n",
    "\n",
    "Secondarily, it will be easier to assume the equitorial, angular rotation speed and radius of Earth is fixed across the entire planet regardless of the present longitudinal position.Although this assumption is clearly violated, it removes the necessity to calculate seasonal, orbital, and tilt specifics for a location.  Given this model of rotation, how much had the Earth moved (in miles) between the children being measured, if the rate of rotation (velocity) of the Earth is 1040.4 MPH?"
   ]
  },
  {
   "cell_type": "markdown",
   "metadata": {},
   "source": [
    "\\begin{equation*}\n",
    "{d} = {v}*(t_{B}-t_{M})\n",
    "\\end{equation*}\n",
    "\n",
    "\\begin{equation*}\n",
    "t_{B}-t_{M} = \\text{15 Sep 2017 10:01:52} - \\text{15 Sep 2017 09:31:21} \\approx 0.5086 \\text{ hours}\n",
    "\\end{equation*}"
   ]
  },
  {
   "cell_type": "code",
   "execution_count": 11,
   "metadata": {},
   "outputs": [
    {
     "name": "stdout",
     "output_type": "stream",
     "text": [
      "529.11 miles covered beteeen measurements\n"
     ]
    }
   ],
   "source": [
    "valEarthAngSpeed = 1040.4  #Rate of rotation of Earth in MPH\n",
    "valDistance = valEarthAngSpeed*((valDiffB)-(valDiffM)).total_seconds()/(60*60)\n",
    "print(\"{0:.2f} miles covered beteeen measurements\".format(valDistance))"
   ]
  },
  {
   "cell_type": "markdown",
   "metadata": {},
   "source": [
    "# Energy Calculations\n",
    "Let's assume we are located in Columbus, OH on a clear day (i.e., no cloud obstructions).  The coordinates for Columbus, OH can be found using a variety of mapping applications, but Google provides a relatively straightforward by looking at the arguments in the [URL](https://www.google.com/maps/place/Columbus,+OH/@39.9831302,-83.1309117,11z/).  Buried in this string, provided below as plain text and before this sentence as a link, you can see the coordinates after the '@' symbol.  It has a latitude of 39.9831302&deg;N and a longitude of 83.1309117&deg;W\n",
    "\n",
    "URL: https://www.google.com/maps/place/Columbus,+OH/@39.9831302,-83.1309117,11z/\n",
    "\n",
    "Let's get the PySolar library setup, as it will help us calculate the radiation energy from the sun at the different times of day."
   ]
  },
  {
   "cell_type": "code",
   "execution_count": 12,
   "metadata": {},
   "outputs": [],
   "source": [
    "from pysolar.solar import *\n",
    "from datetime import timezone\n",
    "import pandas as pd"
   ]
  },
  {
   "cell_type": "markdown",
   "metadata": {},
   "source": [
    "Setup the coordinate values and times."
   ]
  },
  {
   "cell_type": "code",
   "execution_count": 13,
   "metadata": {},
   "outputs": [],
   "source": [
    "locLat = 39.9831302\n",
    "locLon = 83.1309117\n",
    "\n",
    "timeZoneM = timeValM\n",
    "timeZoneB = timeValB"
   ]
  },
  {
   "cell_type": "markdown",
   "metadata": {},
   "source": [
    "## Child: M"
   ]
  },
  {
   "cell_type": "code",
   "execution_count": 14,
   "metadata": {},
   "outputs": [
    {
     "name": "stdout",
     "output_type": "stream",
     "text": [
      "For M, the sun was providing 829.7923 watts per square meter of radiation energy\n"
     ]
    }
   ],
   "source": [
    "valAltitudeM = get_altitude(locLat,locLon,timeZoneM)\n",
    "valRadiationM = radiation.get_radiation_direct(timeZoneM,valAltitudeM)\n",
    "print(\"For M, the sun was providing {0:.4f} watts per square meter of radiation energy\".format(valRadiationM))"
   ]
  },
  {
   "cell_type": "markdown",
   "metadata": {},
   "source": [
    "## Child: B"
   ]
  },
  {
   "cell_type": "code",
   "execution_count": 15,
   "metadata": {},
   "outputs": [
    {
     "name": "stdout",
     "output_type": "stream",
     "text": [
      "For B, the sun was providing 855.6337 watts per square meter of radiation energy\n"
     ]
    }
   ],
   "source": [
    "valAltitudeB = get_altitude(locLat,locLon,timeZoneB)\n",
    "valRadiationB = radiation.get_radiation_direct(timeZoneB,valAltitudeB)\n",
    "print(\"For B, the sun was providing {0:.4f} watts per square meter of radiation energy\".format(valRadiationB))"
   ]
  },
  {
   "cell_type": "markdown",
   "metadata": {},
   "source": [
    "## Difference"
   ]
  },
  {
   "cell_type": "code",
   "execution_count": 16,
   "metadata": {},
   "outputs": [
    {
     "name": "stdout",
     "output_type": "stream",
     "text": [
      "B was receiving 25.8414 watts per square meter of radiation energy more than M\n"
     ]
    }
   ],
   "source": [
    "print(\"B was receiving {0:.4f} watts per square meter of radiation energy more than M\".format(valRadiationB-valRadiationM))"
   ]
  },
  {
   "cell_type": "markdown",
   "metadata": {},
   "source": [
    "## Energy During Day\n",
    "Going from 2 hours before sunrise to 17 hours later, calculate the total amount of solar radiation energy for each hour."
   ]
  },
  {
   "cell_type": "code",
   "execution_count": 17,
   "metadata": {},
   "outputs": [],
   "source": [
    "valStart = -2\n",
    "valNumHrs = 16"
   ]
  },
  {
   "cell_type": "markdown",
   "metadata": {},
   "source": [
    "Build a data structure to support the calculations."
   ]
  },
  {
   "cell_type": "code",
   "execution_count": 18,
   "metadata": {},
   "outputs": [],
   "source": [
    "dfSunMeasures = pd.DataFrame({'Offset':list(range(valStart,(valStart+valNumHrs))),'Sunrise':[timeSunRise]*valNumHrs})\n",
    "dfSunMeasures['TimeCalculated'] = dfSunMeasures.apply(lambda x: timeSunRise+datetime.timedelta(hours=x['Offset']),axis=1)"
   ]
  },
  {
   "cell_type": "markdown",
   "metadata": {},
   "source": [
    "Calculate the altitude and radiation energy of the sun."
   ]
  },
  {
   "cell_type": "code",
   "execution_count": 19,
   "metadata": {},
   "outputs": [
    {
     "data": {
      "text/html": [
       "<div>\n",
       "<style scoped>\n",
       "    .dataframe tbody tr th:only-of-type {\n",
       "        vertical-align: middle;\n",
       "    }\n",
       "\n",
       "    .dataframe tbody tr th {\n",
       "        vertical-align: top;\n",
       "    }\n",
       "\n",
       "    .dataframe thead th {\n",
       "        text-align: right;\n",
       "    }\n",
       "</style>\n",
       "<table border=\"1\" class=\"dataframe\">\n",
       "  <thead>\n",
       "    <tr style=\"text-align: right;\">\n",
       "      <th></th>\n",
       "      <th>Offset</th>\n",
       "      <th>Sunrise</th>\n",
       "      <th>TimeCalculated</th>\n",
       "      <th>Altitude</th>\n",
       "      <th>Radiation</th>\n",
       "      <th>Time</th>\n",
       "    </tr>\n",
       "  </thead>\n",
       "  <tbody>\n",
       "    <tr>\n",
       "      <th>0</th>\n",
       "      <td>-2</td>\n",
       "      <td>2018-09-15 07:12:01+06:00</td>\n",
       "      <td>2018-09-15 05:12:01+06:00</td>\n",
       "      <td>-11.391251</td>\n",
       "      <td>0.000000</td>\n",
       "      <td>05:12:01</td>\n",
       "    </tr>\n",
       "    <tr>\n",
       "      <th>1</th>\n",
       "      <td>-1</td>\n",
       "      <td>2018-09-15 07:12:01+06:00</td>\n",
       "      <td>2018-09-15 06:12:01+06:00</td>\n",
       "      <td>0.423324</td>\n",
       "      <td>0.000000</td>\n",
       "      <td>06:12:01</td>\n",
       "    </tr>\n",
       "    <tr>\n",
       "      <th>2</th>\n",
       "      <td>0</td>\n",
       "      <td>2018-09-15 07:12:01+06:00</td>\n",
       "      <td>2018-09-15 07:12:01+06:00</td>\n",
       "      <td>11.488636</td>\n",
       "      <td>442.217942</td>\n",
       "      <td>07:12:01</td>\n",
       "    </tr>\n",
       "    <tr>\n",
       "      <th>3</th>\n",
       "      <td>1</td>\n",
       "      <td>2018-09-15 07:12:01+06:00</td>\n",
       "      <td>2018-09-15 08:12:01+06:00</td>\n",
       "      <td>22.721990</td>\n",
       "      <td>699.090923</td>\n",
       "      <td>08:12:01</td>\n",
       "    </tr>\n",
       "    <tr>\n",
       "      <th>4</th>\n",
       "      <td>2</td>\n",
       "      <td>2018-09-15 07:12:01+06:00</td>\n",
       "      <td>2018-09-15 09:12:01+06:00</td>\n",
       "      <td>33.357892</td>\n",
       "      <td>808.233422</td>\n",
       "      <td>09:12:01</td>\n",
       "    </tr>\n",
       "    <tr>\n",
       "      <th>5</th>\n",
       "      <td>3</td>\n",
       "      <td>2018-09-15 07:12:01+06:00</td>\n",
       "      <td>2018-09-15 10:12:01+06:00</td>\n",
       "      <td>42.725929</td>\n",
       "      <td>862.452130</td>\n",
       "      <td>10:12:01</td>\n",
       "    </tr>\n",
       "    <tr>\n",
       "      <th>6</th>\n",
       "      <td>4</td>\n",
       "      <td>2018-09-15 07:12:01+06:00</td>\n",
       "      <td>2018-09-15 11:12:01+06:00</td>\n",
       "      <td>49.753913</td>\n",
       "      <td>889.457502</td>\n",
       "      <td>11:12:01</td>\n",
       "    </tr>\n",
       "    <tr>\n",
       "      <th>7</th>\n",
       "      <td>5</td>\n",
       "      <td>2018-09-15 07:12:01+06:00</td>\n",
       "      <td>2018-09-15 12:12:01+06:00</td>\n",
       "      <td>52.977629</td>\n",
       "      <td>899.164787</td>\n",
       "      <td>12:12:01</td>\n",
       "    </tr>\n",
       "    <tr>\n",
       "      <th>8</th>\n",
       "      <td>6</td>\n",
       "      <td>2018-09-15 07:12:01+06:00</td>\n",
       "      <td>2018-09-15 13:12:01+06:00</td>\n",
       "      <td>51.393309</td>\n",
       "      <td>894.575293</td>\n",
       "      <td>13:12:01</td>\n",
       "    </tr>\n",
       "    <tr>\n",
       "      <th>9</th>\n",
       "      <td>7</td>\n",
       "      <td>2018-09-15 07:12:01+06:00</td>\n",
       "      <td>2018-09-15 14:12:01+06:00</td>\n",
       "      <td>45.525608</td>\n",
       "      <td>874.298647</td>\n",
       "      <td>14:12:01</td>\n",
       "    </tr>\n",
       "    <tr>\n",
       "      <th>10</th>\n",
       "      <td>8</td>\n",
       "      <td>2018-09-15 07:12:01+06:00</td>\n",
       "      <td>2018-09-15 15:12:01+06:00</td>\n",
       "      <td>36.825577</td>\n",
       "      <td>831.427419</td>\n",
       "      <td>15:12:01</td>\n",
       "    </tr>\n",
       "    <tr>\n",
       "      <th>11</th>\n",
       "      <td>9</td>\n",
       "      <td>2018-09-15 07:12:01+06:00</td>\n",
       "      <td>2018-09-15 16:12:01+06:00</td>\n",
       "      <td>26.533558</td>\n",
       "      <td>746.780091</td>\n",
       "      <td>16:12:01</td>\n",
       "    </tr>\n",
       "    <tr>\n",
       "      <th>12</th>\n",
       "      <td>10</td>\n",
       "      <td>2018-09-15 07:12:01+06:00</td>\n",
       "      <td>2018-09-15 17:12:01+06:00</td>\n",
       "      <td>15.436270</td>\n",
       "      <td>561.039798</td>\n",
       "      <td>17:12:01</td>\n",
       "    </tr>\n",
       "    <tr>\n",
       "      <th>13</th>\n",
       "      <td>11</td>\n",
       "      <td>2018-09-15 07:12:01+06:00</td>\n",
       "      <td>2018-09-15 18:12:01+06:00</td>\n",
       "      <td>4.106458</td>\n",
       "      <td>82.058983</td>\n",
       "      <td>18:12:01</td>\n",
       "    </tr>\n",
       "    <tr>\n",
       "      <th>14</th>\n",
       "      <td>12</td>\n",
       "      <td>2018-09-15 07:12:01+06:00</td>\n",
       "      <td>2018-09-15 19:12:01+06:00</td>\n",
       "      <td>-7.525454</td>\n",
       "      <td>0.000000</td>\n",
       "      <td>19:12:01</td>\n",
       "    </tr>\n",
       "    <tr>\n",
       "      <th>15</th>\n",
       "      <td>13</td>\n",
       "      <td>2018-09-15 07:12:01+06:00</td>\n",
       "      <td>2018-09-15 20:12:01+06:00</td>\n",
       "      <td>-18.608177</td>\n",
       "      <td>0.000000</td>\n",
       "      <td>20:12:01</td>\n",
       "    </tr>\n",
       "  </tbody>\n",
       "</table>\n",
       "</div>"
      ],
      "text/plain": [
       "    Offset                   Sunrise            TimeCalculated   Altitude  \\\n",
       "0       -2 2018-09-15 07:12:01+06:00 2018-09-15 05:12:01+06:00 -11.391251   \n",
       "1       -1 2018-09-15 07:12:01+06:00 2018-09-15 06:12:01+06:00   0.423324   \n",
       "2        0 2018-09-15 07:12:01+06:00 2018-09-15 07:12:01+06:00  11.488636   \n",
       "3        1 2018-09-15 07:12:01+06:00 2018-09-15 08:12:01+06:00  22.721990   \n",
       "4        2 2018-09-15 07:12:01+06:00 2018-09-15 09:12:01+06:00  33.357892   \n",
       "5        3 2018-09-15 07:12:01+06:00 2018-09-15 10:12:01+06:00  42.725929   \n",
       "6        4 2018-09-15 07:12:01+06:00 2018-09-15 11:12:01+06:00  49.753913   \n",
       "7        5 2018-09-15 07:12:01+06:00 2018-09-15 12:12:01+06:00  52.977629   \n",
       "8        6 2018-09-15 07:12:01+06:00 2018-09-15 13:12:01+06:00  51.393309   \n",
       "9        7 2018-09-15 07:12:01+06:00 2018-09-15 14:12:01+06:00  45.525608   \n",
       "10       8 2018-09-15 07:12:01+06:00 2018-09-15 15:12:01+06:00  36.825577   \n",
       "11       9 2018-09-15 07:12:01+06:00 2018-09-15 16:12:01+06:00  26.533558   \n",
       "12      10 2018-09-15 07:12:01+06:00 2018-09-15 17:12:01+06:00  15.436270   \n",
       "13      11 2018-09-15 07:12:01+06:00 2018-09-15 18:12:01+06:00   4.106458   \n",
       "14      12 2018-09-15 07:12:01+06:00 2018-09-15 19:12:01+06:00  -7.525454   \n",
       "15      13 2018-09-15 07:12:01+06:00 2018-09-15 20:12:01+06:00 -18.608177   \n",
       "\n",
       "     Radiation      Time  \n",
       "0     0.000000  05:12:01  \n",
       "1     0.000000  06:12:01  \n",
       "2   442.217942  07:12:01  \n",
       "3   699.090923  08:12:01  \n",
       "4   808.233422  09:12:01  \n",
       "5   862.452130  10:12:01  \n",
       "6   889.457502  11:12:01  \n",
       "7   899.164787  12:12:01  \n",
       "8   894.575293  13:12:01  \n",
       "9   874.298647  14:12:01  \n",
       "10  831.427419  15:12:01  \n",
       "11  746.780091  16:12:01  \n",
       "12  561.039798  17:12:01  \n",
       "13   82.058983  18:12:01  \n",
       "14    0.000000  19:12:01  \n",
       "15    0.000000  20:12:01  "
      ]
     },
     "execution_count": 19,
     "metadata": {},
     "output_type": "execute_result"
    }
   ],
   "source": [
    "dfSunMeasures['Altitude'] = dfSunMeasures['TimeCalculated'].apply(lambda x: get_altitude(locLat,locLon,x))\n",
    "dfSunMeasures['Radiation'] = dfSunMeasures.apply(lambda x: radiation.get_radiation_direct(x['TimeCalculated'],x['Altitude']),axis=1)\n",
    "dfSunMeasures['Time'] = dfSunMeasures['TimeCalculated'].dt.time\n",
    "dfSunMeasures"
   ]
  },
  {
   "cell_type": "markdown",
   "metadata": {},
   "source": [
    "# Plotting Energy Calculations\n",
    "## Amount of Energy vs. Altitude Angle"
   ]
  },
  {
   "cell_type": "code",
   "execution_count": 20,
   "metadata": {},
   "outputs": [
    {
     "data": {
      "text/plain": [
       "<matplotlib.axes._subplots.AxesSubplot at 0x11a608748>"
      ]
     },
     "execution_count": 20,
     "metadata": {},
     "output_type": "execute_result"
    },
    {
     "data": {
      "image/png": "[encoded data removed]",
      "text/plain": [
       "<Figure size 1008x576 with 1 Axes>"
      ]
     },
     "metadata": {
      "needs_background": "light"
     },
     "output_type": "display_data"
    }
   ],
   "source": [
    "dfSunMeasures.plot.scatter(x='Altitude',y='Radiation',c='Red',figsize=(14,8))"
   ]
  },
  {
   "cell_type": "markdown",
   "metadata": {},
   "source": [
    "## Amount of Energy vs. Time of Day"
   ]
  },
  {
   "cell_type": "code",
   "execution_count": 21,
   "metadata": {},
   "outputs": [
    {
     "data": {
      "text/plain": [
       "<matplotlib.axes._subplots.AxesSubplot at 0x11a967f60>"
      ]
     },
     "execution_count": 21,
     "metadata": {},
     "output_type": "execute_result"
    },
    {
     "data": {
      "image/png": "[encoded data removed]",
      "text/plain": [
       "<Figure size 1008x576 with 1 Axes>"
      ]
     },
     "metadata": {
      "needs_background": "light"
     },
     "output_type": "display_data"
    }
   ],
   "source": [
    "dfSunMeasures.plot(x='Time',y='Radiation',c='Red',style='.',figsize=(14,8),legend=False)"
   ]
  },
  {
   "cell_type": "code",
   "execution_count": null,
   "metadata": {},
   "outputs": [],
   "source": []
  }
 ],
 "metadata": {
  "kernelspec": {
   "display_name": "Python [conda env:Env_Scratch]",
   "language": "python",
   "name": "conda-env-Env_Scratch-py"
  },
  "language_info": {
   "codemirror_mode": {
    "name": "ipython",
    "version": 3
   },
   "file_extension": ".py",
   "mimetype": "text/x-python",
   "name": "python",
   "nbconvert_exporter": "python",
   "pygments_lexer": "ipython3",
   "version": "3.6.6"
  }
 },
 "nbformat": 4,
 "nbformat_minor": 2
}
