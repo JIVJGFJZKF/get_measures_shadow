{
 "cells": [
  {
   "cell_type": "code",
   "execution_count": 1,
   "metadata": {},
   "outputs": [],
   "source": [
    "import math\n",
    "import datetime"
   ]
  },
  {
   "cell_type": "markdown",
   "metadata": {},
   "source": [
    "# Child: M"
   ]
  },
  {
   "cell_type": "code",
   "execution_count": 2,
   "metadata": {},
   "outputs": [],
   "source": [
    "triMOpp = 59.00  #Madelyn's height in inches.\n",
    "triMAdj = 108"
   ]
  },
  {
   "cell_type": "code",
   "execution_count": 3,
   "metadata": {},
   "outputs": [
    {
     "name": "stdout",
     "output_type": "stream",
     "text": [
      "The ratio of the opposite over the adjacent = 0.5462962962962963\n"
     ]
    }
   ],
   "source": [
    "print(\"The ratio of the opposite over the adjacent = \"+str(triMOpp/triMAdj))"
   ]
  },
  {
   "cell_type": "code",
   "execution_count": 4,
   "metadata": {},
   "outputs": [
    {
     "name": "stdout",
     "output_type": "stream",
     "text": [
      "34.837026667669846\n"
     ]
    }
   ],
   "source": [
    "angM = math.tan(triMOpp/triMAdj)\n",
    "print(math.degrees(angM))"
   ]
  },
  {
   "cell_type": "markdown",
   "metadata": {},
   "source": [
    "# Child: B"
   ]
  },
  {
   "cell_type": "code",
   "execution_count": 5,
   "metadata": {},
   "outputs": [],
   "source": [
    "triBOpp = 49.75 #Bradley's height in inches.\n",
    "triBAdj = 78"
   ]
  },
  {
   "cell_type": "code",
   "execution_count": 6,
   "metadata": {},
   "outputs": [
    {
     "name": "stdout",
     "output_type": "stream",
     "text": [
      "The ratio of the opposite over the adjacent = 0.6378205128205128\n"
     ]
    }
   ],
   "source": [
    "print(\"The ratio of the opposite over the adjacent = \"+str(triBOpp/triBAdj))"
   ]
  },
  {
   "cell_type": "code",
   "execution_count": 7,
   "metadata": {},
   "outputs": [
    {
     "name": "stdout",
     "output_type": "stream",
     "text": [
      "42.465433286409116\n"
     ]
    }
   ],
   "source": [
    "angB = math.tan(triBOpp/triBAdj)\n",
    "print(math.degrees(angB))"
   ]
  },
  {
   "cell_type": "markdown",
   "metadata": {},
   "source": [
    "# Questions\n",
    "## Angle Measurements\n",
    "If we assume that our measurements were extremely precise, how would we answer these questions.\n",
    "\n",
    "What is the difference in the angle of the sun (in degrees) between the children being measured?"
   ]
  },
  {
   "cell_type": "code",
   "execution_count": 8,
   "metadata": {},
   "outputs": [
    {
     "data": {
      "text/plain": [
       "7.62840661873927"
      ]
     },
     "execution_count": 8,
     "metadata": {},
     "output_type": "execute_result"
    }
   ],
   "source": [
    "(math.degrees(angB)-math.degrees(angM))"
   ]
  },
  {
   "cell_type": "markdown",
   "metadata": {},
   "source": [
    "## Time\n",
    "The measurements were taken on the morning of Saturday, 15 Sep 2018.  Based on a weather calendar, the sun rose at XX that morning.  Using the formula below, it is possible to take an angle and calculate how much time has passed since sunrise.  Here *w* is the hour angle of the sun, which is one of the three angles of the Earth-Sun dynamic.  For additional information, please refer to [Penn State](https://www.e-education.psu.edu/eme810/node/556)."
   ]
  },
  {
   "cell_type": "markdown",
   "metadata": {},
   "source": [
    "\\begin{equation*}\n",
    "{w} = \\frac{360\\mathring{ }}{24 hr}(t_{sol}-12) = \\frac{15\\mathring{ }}{hr}(t_{sol}-12)\n",
    "\\end{equation*}\n",
    "\n"
   ]
  },
  {
   "cell_type": "markdown",
   "metadata": {},
   "source": [
    "\\begin{equation*}\n",
    "{t_{sol}} = \\frac{w}{15\\mathring{ }}+12\n",
    "\\end{equation*}"
   ]
  },
  {
   "cell_type": "code",
   "execution_count": 9,
   "metadata": {},
   "outputs": [],
   "source": [
    "# Approximate location\n",
    "timeSunRise = datetime.datetime(year=2017,month=9,day=15,hour=7,minute=12,second=1)"
   ]
  },
  {
   "cell_type": "markdown",
   "metadata": {},
   "source": [
    "### Child: M\n",
    "At what time of day was M measured?"
   ]
  },
  {
   "cell_type": "code",
   "execution_count": 10,
   "metadata": {},
   "outputs": [
    {
     "name": "stdout",
     "output_type": "stream",
     "text": [
      "2.32 hours after sunrise\n",
      "For M, the measurements were taken on: 15 Sep 2017 at 09:31:21\n"
     ]
    }
   ],
   "source": [
    "timeM = math.degrees(angM)/15\n",
    "print(\"{0:.2f} hours after sunrise\".format(timeM))\n",
    "valDiffM = datetime.timedelta(hours=timeM)\n",
    "print(\"For M, the measurements were taken on: \"+(timeSunRise+valDiffM).strftime('%d %b %Y at %H:%M:%S'))"
   ]
  },
  {
   "cell_type": "markdown",
   "metadata": {},
   "source": [
    "### Child: B\n",
    "At what time of day was B measured?"
   ]
  },
  {
   "cell_type": "code",
   "execution_count": 11,
   "metadata": {},
   "outputs": [
    {
     "name": "stdout",
     "output_type": "stream",
     "text": [
      "2.83 hours after sunrise\n",
      "For B, the measurements were taken on: 15 Sep 2017 at 10:01:52\n"
     ]
    }
   ],
   "source": [
    "timeB = math.degrees(angB)/15\n",
    "print(\"{0:.2f} hours after sunrise\".format(timeB))\n",
    "valDiffB = datetime.timedelta(hours=timeB)\n",
    "print(\"For B, the measurements were taken on: \"+(timeSunRise+valDiffB).strftime('%d %b %Y at %H:%M:%S'))"
   ]
  },
  {
   "cell_type": "markdown",
   "metadata": {},
   "source": [
    "### Overall\n",
    "How much time in minutes was between the measurements?"
   ]
  },
  {
   "cell_type": "code",
   "execution_count": 12,
   "metadata": {},
   "outputs": [
    {
     "name": "stdout",
     "output_type": "stream",
     "text": [
      "30.51 minutes\n"
     ]
    }
   ],
   "source": [
    "print(\"{0:.2f} minutes\".format(((valDiffB)-(valDiffM)).total_seconds()/60))"
   ]
  },
  {
   "cell_type": "markdown",
   "metadata": {},
   "source": [
    "## Distances"
   ]
  },
  {
   "cell_type": "markdown",
   "metadata": {},
   "source": [
    "For this question, we will assume the Earth is only rotating on its axes, and not rotating around the sun in an ellipse as well as rotating on its axes.  Secondarily, it will be easier to assume the equitorial rotation speed is equal to the fixed location where the measurements were taken.  Noting, however, the speed will actually be faster at this location and the total distance covered smaller.  Given this model of rotation, how much had the Earth moved (in miles) between the children being measured, if the rate of rotation of the Earth is ?"
   ]
  },
  {
   "cell_type": "code",
   "execution_count": 13,
   "metadata": {},
   "outputs": [
    {
     "name": "stdout",
     "output_type": "stream",
     "text": [
      "529.11 miles covered beteeen measurements\n"
     ]
    }
   ],
   "source": [
    "valEarthAngSpeed = 1040.4  #Rate of rotation of Earth in MPH\n",
    "valDistance = valEarthAngSpeed*((valDiffB)-(valDiffM)).total_seconds()/(60*60)\n",
    "print(\"{0:.2f} miles covered beteeen measurements\".format(valDistance))"
   ]
  },
  {
   "cell_type": "code",
   "execution_count": null,
   "metadata": {},
   "outputs": [],
   "source": []
  }
 ],
 "metadata": {
  "kernelspec": {
   "display_name": "Python [conda env:Env_Scratch34]",
   "language": "python",
   "name": "conda-env-Env_Scratch34-py"
  },
  "language_info": {
   "codemirror_mode": {
    "name": "ipython",
    "version": 3
   },
   "file_extension": ".py",
   "mimetype": "text/x-python",
   "name": "python",
   "nbconvert_exporter": "python",
   "pygments_lexer": "ipython3",
   "version": "3.4.5"
  }
 },
 "nbformat": 4,
 "nbformat_minor": 2
}
